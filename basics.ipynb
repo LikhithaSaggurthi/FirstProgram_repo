{
 "cells": [
  {
   "cell_type": "markdown",
   "id": "a785382d",
   "metadata": {},
   "source": [
    "# variable names starts with A-Z or a-z or _"
   ]
  },
  {
   "cell_type": "markdown",
   "id": "971224a1",
   "metadata": {},
   "source": [
    "# variable names doesnot contain spaces"
   ]
  },
  {
   "cell_type": "markdown",
   "id": "c7fc0311",
   "metadata": {},
   "source": [
    "# only underscore is used to start the variable name"
   ]
  },
  {
   "cell_type": "markdown",
   "id": "ba37d111",
   "metadata": {},
   "source": [
    "# lists are mutable i.e.,can be changed\n",
    "### [ ]are used for list"
   ]
  },
  {
   "cell_type": "code",
   "execution_count": 2,
   "id": "700cb75f",
   "metadata": {},
   "outputs": [
    {
     "data": {
      "text/plain": [
       "[100, 'hi', 0.89, True]"
      ]
     },
     "execution_count": 2,
     "metadata": {},
     "output_type": "execute_result"
    }
   ],
   "source": [
    "list=[1,\"hi\",0.89,True]\n",
    "type(list)\n",
    "list[0]=100\n",
    "list\n",
    "\n"
   ]
  },
  {
   "cell_type": "code",
   "execution_count": 3,
   "id": "d39e02d6",
   "metadata": {},
   "outputs": [
    {
     "data": {
      "text/plain": [
       "True"
      ]
     },
     "execution_count": 3,
     "metadata": {},
     "output_type": "execute_result"
    }
   ],
   "source": [
    "list=[1,\"hi\",0.89,True]\n",
    "list[-1]\n"
   ]
  },
  {
   "cell_type": "markdown",
   "id": "928df07b",
   "metadata": {},
   "source": [
    "###backward indexing starts from -1,-2..."
   ]
  },
  {
   "cell_type": "markdown",
   "id": "33c5e891",
   "metadata": {},
   "source": [
    "# list is heterogeneous i.e.,multiple types of data can be stoed in it"
   ]
  },
  {
   "cell_type": "markdown",
   "id": "2489bbfb",
   "metadata": {},
   "source": [
    "### tuples are immutable i.e.,cannot be changed\n",
    "### () are used or no braces"
   ]
  },
  {
   "cell_type": "code",
   "execution_count": null,
   "id": "a5fb111a",
   "metadata": {},
   "outputs": [],
   "source": []
  },
  {
   "cell_type": "code",
   "execution_count": 5,
   "id": "e4a8702f",
   "metadata": {},
   "outputs": [
    {
     "data": {
      "text/plain": [
       "tuple"
      ]
     },
     "execution_count": 5,
     "metadata": {},
     "output_type": "execute_result"
    }
   ],
   "source": [
    "tuple=(1,2,3,4,5)\n",
    "type(tuple)"
   ]
  },
  {
   "cell_type": "code",
   "execution_count": 6,
   "id": "288e5f62",
   "metadata": {},
   "outputs": [
    {
     "data": {
      "text/plain": [
       "5"
      ]
     },
     "execution_count": 6,
     "metadata": {},
     "output_type": "execute_result"
    }
   ],
   "source": [
    "tuple=(1,2,3,4,5)\n",
    "tuple[-1]"
   ]
  },
  {
   "cell_type": "code",
   "execution_count": 7,
   "id": "60c3e7a6",
   "metadata": {},
   "outputs": [
    {
     "data": {
      "text/plain": [
       "1"
      ]
     },
     "execution_count": 7,
     "metadata": {},
     "output_type": "execute_result"
    }
   ],
   "source": [
    "tuple=(1,2,3,4,5)\n",
    "tuple[0]"
   ]
  },
  {
   "cell_type": "code",
   "execution_count": 8,
   "id": "7633cff9",
   "metadata": {},
   "outputs": [
    {
     "ename": "TypeError",
     "evalue": "'tuple' object does not support item assignment",
     "output_type": "error",
     "traceback": [
      "\u001b[1;31m---------------------------------------------------------------------------\u001b[0m",
      "\u001b[1;31mTypeError\u001b[0m                                 Traceback (most recent call last)",
      "Cell \u001b[1;32mIn[8], line 2\u001b[0m\n\u001b[0;32m      1\u001b[0m \u001b[38;5;28mtuple\u001b[39m\u001b[38;5;241m=\u001b[39m(\u001b[38;5;241m1\u001b[39m,\u001b[38;5;241m2\u001b[39m,\u001b[38;5;241m3\u001b[39m,\u001b[38;5;241m4\u001b[39m,\u001b[38;5;241m5\u001b[39m)\n\u001b[1;32m----> 2\u001b[0m \u001b[38;5;28mtuple\u001b[39m[\u001b[38;5;241m1\u001b[39m]\u001b[38;5;241m=\u001b[39m\u001b[38;5;241m20\u001b[39m\n",
      "\u001b[1;31mTypeError\u001b[0m: 'tuple' object does not support item assignment"
     ]
    }
   ],
   "source": [
    "tuple=(1,2,3,4,5)\n",
    "tuple[1]=20"
   ]
  },
  {
   "cell_type": "markdown",
   "id": "2fa916e6",
   "metadata": {},
   "source": [
    "# dictionaries:"
   ]
  },
  {
   "cell_type": "markdown",
   "id": "13e79c8d",
   "metadata": {},
   "source": [
    "### in dictionary values are stored in key value pairs\n"
   ]
  },
  {
   "cell_type": "markdown",
   "id": "4fdf7c80",
   "metadata": {},
   "source": [
    "# every value has unique keys to access the value\n"
   ]
  },
  {
   "cell_type": "markdown",
   "id": "ce5e5876",
   "metadata": {},
   "source": [
    "# dictionaries are mutable"
   ]
  },
  {
   "cell_type": "code",
   "execution_count": null,
   "id": "e20baa83",
   "metadata": {},
   "outputs": [],
   "source": []
  },
  {
   "cell_type": "code",
   "execution_count": null,
   "id": "59e511f0",
   "metadata": {},
   "outputs": [],
   "source": []
  },
  {
   "cell_type": "code",
   "execution_count": null,
   "id": "31f93f02",
   "metadata": {},
   "outputs": [],
   "source": []
  },
  {
   "cell_type": "code",
   "execution_count": 9,
   "id": "46d4ab1c",
   "metadata": {},
   "outputs": [],
   "source": [
    "dict={\"name\":\"likhitha\",\"hobbies\":[\"painting\",\"drawing\",\"sleeping\"],5:6.7}"
   ]
  },
  {
   "cell_type": "code",
   "execution_count": 11,
   "id": "416510b2",
   "metadata": {},
   "outputs": [
    {
     "data": {
      "text/plain": [
       "dict_keys(['name', 'hobbies', 5])"
      ]
     },
     "execution_count": 11,
     "metadata": {},
     "output_type": "execute_result"
    }
   ],
   "source": [
    "dict.keys()"
   ]
  },
  {
   "cell_type": "code",
   "execution_count": 12,
   "id": "7473ff45",
   "metadata": {},
   "outputs": [
    {
     "data": {
      "text/plain": [
       "dict_values(['likhitha', ['painting', 'drawing', 'sleeping'], 6.7])"
      ]
     },
     "execution_count": 12,
     "metadata": {},
     "output_type": "execute_result"
    }
   ],
   "source": [
    "dict.values()"
   ]
  },
  {
   "cell_type": "code",
   "execution_count": 14,
   "id": "63fa0e7e",
   "metadata": {},
   "outputs": [
    {
     "data": {
      "text/plain": [
       "['painting', 'drawing', 'sleeping']"
      ]
     },
     "execution_count": 14,
     "metadata": {},
     "output_type": "execute_result"
    }
   ],
   "source": [
    "dict['hobbies']"
   ]
  },
  {
   "cell_type": "code",
   "execution_count": 15,
   "id": "75333853",
   "metadata": {},
   "outputs": [],
   "source": [
    "dict['name']='likki'"
   ]
  },
  {
   "cell_type": "code",
   "execution_count": 17,
   "id": "90af1807",
   "metadata": {},
   "outputs": [
    {
     "data": {
      "text/plain": [
       "dict_values(['likki', ['painting', 'drawing', 'sleeping'], 6.7])"
      ]
     },
     "execution_count": 17,
     "metadata": {},
     "output_type": "execute_result"
    }
   ],
   "source": [
    "dict.values()"
   ]
  },
  {
   "cell_type": "code",
   "execution_count": 18,
   "id": "c05d503e",
   "metadata": {},
   "outputs": [],
   "source": [
    "dict['names']=\"latha\""
   ]
  },
  {
   "cell_type": "code",
   "execution_count": 19,
   "id": "1cd6846f",
   "metadata": {},
   "outputs": [
    {
     "data": {
      "text/plain": [
       "{'name': 'likki',\n",
       " 'hobbies': ['painting', 'drawing', 'sleeping'],\n",
       " 5: 6.7,\n",
       " 'names': 'latha'}"
      ]
     },
     "execution_count": 19,
     "metadata": {},
     "output_type": "execute_result"
    }
   ],
   "source": [
    "dict"
   ]
  },
  {
   "cell_type": "code",
   "execution_count": null,
   "id": "7dcf6129",
   "metadata": {},
   "outputs": [],
   "source": []
  },
  {
   "cell_type": "code",
   "execution_count": null,
   "id": "1657c06c",
   "metadata": {},
   "outputs": [],
   "source": []
  },
  {
   "cell_type": "code",
   "execution_count": null,
   "id": "8caa56a0",
   "metadata": {},
   "outputs": [],
   "source": []
  },
  {
   "cell_type": "code",
   "execution_count": null,
   "id": "909b8eba",
   "metadata": {},
   "outputs": [],
   "source": []
  },
  {
   "cell_type": "code",
   "execution_count": null,
   "id": "430ac2cc",
   "metadata": {},
   "outputs": [],
   "source": []
  },
  {
   "cell_type": "code",
   "execution_count": null,
   "id": "8855bd4d",
   "metadata": {},
   "outputs": [],
   "source": []
  }
 ],
 "metadata": {
  "kernelspec": {
   "display_name": "Python 3 (ipykernel)",
   "language": "python",
   "name": "python3"
  },
  "language_info": {
   "codemirror_mode": {
    "name": "ipython",
    "version": 3
   },
   "file_extension": ".py",
   "mimetype": "text/x-python",
   "name": "python",
   "nbconvert_exporter": "python",
   "pygments_lexer": "ipython3",
   "version": "3.11.5"
  }
 },
 "nbformat": 4,
 "nbformat_minor": 5
}
